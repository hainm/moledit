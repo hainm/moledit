{
 "cells": [
  {
   "cell_type": "markdown",
   "metadata": {},
   "source": [
    "# Require AmberTools\n",
    "\n",
    "```\n",
    "conda install ambertools=18 -c http://ambermd.org/downloads/ambertools/conda/\n",
    "```"
   ]
  },
  {
   "cell_type": "code",
   "execution_count": 15,
   "metadata": {},
   "outputs": [],
   "source": [
    "representations = [\n",
    "    {\"type\": \"cartoon\", \"params\": {\n",
    "        \"sele\": \"protein\", \"color\": \"residueindex\"\n",
    "    }},\n",
    "    {\"type\": \"surface\", \"params\": {\n",
    "        \"sele\": \"6\",\n",
    "        \"opacity\": \"0.3\",  \"wireframe\": True, \"color\": \"white\"\n",
    "    }},\n",
    "    {\"type\": \"licorice\", \"params\": {\n",
    "        \"sele\": \"6\",\n",
    "    }},\n",
    "    {\"type\": \"licorice\", \"params\": {\n",
    "        \"sele\": \"10-20 and not hydrogen\"\n",
    "    }}\n",
    "]"
   ]
  },
  {
   "cell_type": "code",
   "execution_count": 16,
   "metadata": {},
   "outputs": [
    {
     "data": {
      "application/vnd.jupyter.widget-view+json": {
       "model_id": "5c01836557c140e4bbe9331bc10ac48f",
       "version_major": 2,
       "version_minor": 0
      },
      "text/plain": [
       "NGLWidget(background='black')"
      ]
     },
     "metadata": {},
     "output_type": "display_data"
    }
   ],
   "source": [
    "from moledit.visualizer import ViewerEditor\n",
    "import parmed\n",
    "\n",
    "parm = parmed.load_file('trpcage.pdb')\n",
    "parm.box = None\n",
    "editor = ViewerEditor(parm)\n",
    "view = editor.visualize()\n",
    "view.representations = representations\n",
    "view.background = 'black'\n",
    "view"
   ]
  },
  {
   "cell_type": "code",
   "execution_count": 17,
   "metadata": {},
   "outputs": [
    {
     "data": {
      "text/plain": [
       "<moledit.visualizer.ViewerEditor at 0x11654bfd0>"
      ]
     },
     "execution_count": 17,
     "metadata": {},
     "output_type": "execute_result"
    }
   ],
   "source": [
    "editor.mutate([(5, 'LYS')])\n",
    "editor.add_missing_atoms()"
   ]
  }
 ],
 "metadata": {
  "anaconda-cloud": {},
  "kernelspec": {
   "display_name": "Python 3",
   "language": "python",
   "name": "python3"
  },
  "language_info": {
   "codemirror_mode": {
    "name": "ipython",
    "version": 3
   },
   "file_extension": ".py",
   "mimetype": "text/x-python",
   "name": "python",
   "nbconvert_exporter": "python",
   "pygments_lexer": "ipython3",
   "version": "3.6.1"
  },
  "widgets": {
   "state": {
    "234c4b7098d74738adb4334a60dd9cfb": {
     "views": [
      {
       "cell_index": 2
      }
     ]
    }
   },
   "version": "1.2.0"
  }
 },
 "nbformat": 4,
 "nbformat_minor": 2
}
