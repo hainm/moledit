{
 "cells": [
  {
   "cell_type": "code",
   "execution_count": 15,
   "metadata": {
    "collapsed": false
   },
   "outputs": [],
   "source": [
    "from pdb4amber.visualizer import Viewer\n",
    "import nglview as nv\n",
    "\n",
    "fixer = Viewer()\n",
    "view = fixer.visualize()\n",
    "view"
   ]
  },
  {
   "cell_type": "code",
   "execution_count": 16,
   "metadata": {
    "collapsed": false
   },
   "outputs": [],
   "source": [
    "fixer.build_bdna(\"G\"*6)\n",
    "view.clear()\n",
    "view.add_licorice()"
   ]
  },
  {
   "cell_type": "code",
   "execution_count": 17,
   "metadata": {
    "collapsed": true
   },
   "outputs": [],
   "source": [
    "fixer.leapify()"
   ]
  },
  {
   "cell_type": "code",
   "execution_count": 18,
   "metadata": {
    "collapsed": false
   },
   "outputs": [
    {
     "name": "stdout",
     "output_type": "stream",
     "text": [
      "\tSTOP: TOTAL NO. of ITERATIONS EXCEEDS LIMIT\n"
     ]
    },
    {
     "name": "stderr",
     "output_type": "stream",
     "text": [
      "Problem minimizing structure with scipy and sander:\n"
     ]
    }
   ],
   "source": [
    "fixer.minimize(igb=8, saltcon=0., cutoff=999, maxcyc=500, tol=1E-6)"
   ]
  }
 ],
 "metadata": {
  "kernelspec": {
   "display_name": "Python 3",
   "language": "python",
   "name": "python3"
  },
  "language_info": {
   "codemirror_mode": {
    "name": "ipython",
    "version": 3
   },
   "file_extension": ".py",
   "mimetype": "text/x-python",
   "name": "python",
   "nbconvert_exporter": "python",
   "pygments_lexer": "ipython3",
   "version": "3.5.2"
  },
  "widgets": {
   "state": {
    "0111faa154ad4540984b85f2cd615661": {
     "views": [
      {
       "cell_index": 1
      }
     ]
    },
    "06c2ff05e5ed428f8985c190b334f467": {
     "views": [
      {
       "cell_index": 1
      }
     ]
    },
    "0cc58fb8b128447ba40647c3ef83af48": {
     "views": [
      {
       "cell_index": 1
      }
     ]
    },
    "0e5e5a20746a43c2be37a445cc8a3464": {
     "views": [
      {
       "cell_index": 1
      }
     ]
    },
    "1800ed1d1be4478ba825f0a8ffb76a1c": {
     "views": [
      {
       "cell_index": 1
      }
     ]
    },
    "19dc784ad34444da9bd77b0e9152ffe1": {
     "views": [
      {
       "cell_index": 0
      }
     ]
    },
    "1d9d4b6cb9df409aaf38148b03ae25cf": {
     "views": [
      {
       "cell_index": 1
      }
     ]
    },
    "307ef1833c914f5e8f9608e95ddf06f7": {
     "views": [
      {
       "cell_index": 1
      }
     ]
    },
    "37b0ba05a6664b649b5083f350a7ced8": {
     "views": [
      {
       "cell_index": 1
      }
     ]
    },
    "37e18f43981547d58d45d9eb6134ac4c": {
     "views": [
      {
       "cell_index": 1
      }
     ]
    },
    "3da727bf7c584c65a2f12a626e646341": {
     "views": [
      {
       "cell_index": 1
      }
     ]
    },
    "41b5683bad1141bbb0bea15657182ec6": {
     "views": [
      {
       "cell_index": 1
      }
     ]
    },
    "4451d1b9ef6141dc9b66b2409b7cfa6e": {
     "views": [
      {
       "cell_index": 1
      }
     ]
    },
    "44eb1d6ed6114b8d8beb52d92f136e81": {
     "views": [
      {
       "cell_index": 1
      }
     ]
    },
    "459e9ca09df54d7d818c939fff757425": {
     "views": [
      {
       "cell_index": 1
      }
     ]
    },
    "55923fd0155845469bbd47e01e2f68ef": {
     "views": [
      {
       "cell_index": 1
      }
     ]
    },
    "5bdfba878d0b42d5be023fe24e707158": {
     "views": [
      {
       "cell_index": 1
      }
     ]
    },
    "5ca72d6f0fbe430ebfd2ffb0c5134779": {
     "views": [
      {
       "cell_index": 1
      }
     ]
    },
    "68b48256ffda412289d5cbd562225125": {
     "views": [
      {
       "cell_index": 1
      }
     ]
    },
    "6fb0ecc9a8f84a1791c13bec3ab4cff0": {
     "views": [
      {
       "cell_index": 2
      }
     ]
    },
    "738d85f485a7454dbb3d7b5197e015ed": {
     "views": [
      {
       "cell_index": 1
      }
     ]
    },
    "90a934ee91474f0b95f5f72612df1348": {
     "views": [
      {
       "cell_index": 1
      }
     ]
    },
    "90ff4fd1c28b4dc6a549d2c279efd7e2": {
     "views": [
      {
       "cell_index": 1
      }
     ]
    },
    "98c050cc63f04217a5cb9af3124ba85b": {
     "views": [
      {
       "cell_index": 1
      }
     ]
    },
    "a4d17db349904a4abbd34d33d0bf65f3": {
     "views": [
      {
       "cell_index": 1
      }
     ]
    },
    "b2ad9df7ce3c4096981081ad21587e8e": {
     "views": [
      {
       "cell_index": 1
      }
     ]
    },
    "bb4057c921a94923b641c6222cf1ca52": {
     "views": [
      {
       "cell_index": 1
      }
     ]
    },
    "c27641cb2d9d498d9e3a1ff9e6079c5f": {
     "views": [
      {
       "cell_index": 0
      }
     ]
    },
    "c4040936186d4c6d87f8d0cdbc1581f1": {
     "views": [
      {
       "cell_index": 1
      }
     ]
    },
    "d1399a1094e54541ae8a25802dd73a99": {
     "views": [
      {
       "cell_index": 1
      }
     ]
    },
    "d2ebb787eeac4c749567e6ddff603506": {
     "views": [
      {
       "cell_index": 1
      }
     ]
    },
    "e9199436f8984216ad176f1756a51150": {
     "views": [
      {
       "cell_index": 1
      }
     ]
    },
    "f1a9b283d286467699cdf67bab27d114": {
     "views": [
      {
       "cell_index": 1
      }
     ]
    },
    "fca8e86f75364c28860d36262793ddb2": {
     "views": [
      {
       "cell_index": 1
      }
     ]
    },
    "fe646e93dd3949a7b9b912b25a26ca10": {
     "views": [
      {
       "cell_index": 1
      }
     ]
    }
   },
   "version": "1.2.0"
  }
 },
 "nbformat": 4,
 "nbformat_minor": 0
}
