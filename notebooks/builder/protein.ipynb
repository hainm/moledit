{
 "cells": [
  {
   "cell_type": "code",
   "execution_count": 9,
   "metadata": {},
   "outputs": [
    {
     "data": {
      "application/vnd.jupyter.widget-view+json": {
       "model_id": "fb47d66662ec4d86b798ed5d8d99624f",
       "version_major": 2,
       "version_minor": 0
      },
      "text/plain": [
       "NGLWidget()"
      ]
     },
     "metadata": {},
     "output_type": "display_data"
    }
   ],
   "source": [
    "from moledit.visualizer import ViewerEditor\n",
    "import nglview as nv\n",
    "\n",
    "fixer = ViewerEditor()\n",
    "view = fixer.visualize()\n",
    "view"
   ]
  },
  {
   "cell_type": "code",
   "execution_count": 10,
   "metadata": {},
   "outputs": [],
   "source": [
    "fixer.build_protein(\"ACE ALA ALA ALA ALA ALA ALA ALA ALA ALA NME\", ['alpha:1-10'])\n",
    "view.clear()\n",
    "view.add_licorice()"
   ]
  },
  {
   "cell_type": "code",
   "execution_count": null,
   "metadata": {},
   "outputs": [],
   "source": [
    "fixer.strip"
   ]
  },
  {
   "cell_type": "code",
   "execution_count": 6,
   "metadata": {},
   "outputs": [],
   "source": [
    "fixer.leapify()"
   ]
  },
  {
   "cell_type": "code",
   "execution_count": 7,
   "metadata": {},
   "outputs": [],
   "source": [
    "fixer.minimize(igb=8)"
   ]
  }
 ],
 "metadata": {
  "kernelspec": {
   "display_name": "Python 3",
   "language": "python",
   "name": "python3"
  },
  "language_info": {
   "codemirror_mode": {
    "name": "ipython",
    "version": 3
   },
   "file_extension": ".py",
   "mimetype": "text/x-python",
   "name": "python",
   "nbconvert_exporter": "python",
   "pygments_lexer": "ipython3",
   "version": "3.6.8"
  },
  "widgets": {
   "state": {
    "00dcafebed8846ab8d8ba926b71e5208": {
     "views": [
      {
       "cell_index": 0
      }
     ]
    },
    "43ad8b38fd81402e873b3782683d5183": {
     "views": [
      {
       "cell_index": 0
      }
     ]
    },
    "a8c809d220c9498ca0d22c439e412b66": {
     "views": [
      {
       "cell_index": 0
      }
     ]
    },
    "d4fd7dc7ac43451099ee7c3276c7b2dd": {
     "views": [
      {
       "cell_index": 0
      }
     ]
    },
    "d5f2415102534145b4f45417ab28016a": {
     "views": [
      {
       "cell_index": 0
      }
     ]
    }
   },
   "version": "1.2.0"
  }
 },
 "nbformat": 4,
 "nbformat_minor": 2
}
